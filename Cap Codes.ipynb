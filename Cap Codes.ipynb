{
  "nbformat": 4,
  "nbformat_minor": 0,
  "metadata": {
    "colab": {
      "name": "Cap Stone Codes.ipynb",
      "provenance": [],
      "collapsed_sections": []
    },
    "kernelspec": {
      "name": "python3",
      "display_name": "Python 3"
    },
    "language_info": {
      "name": "python"
    }
  },
  "cells": [
    {
      "cell_type": "code",
      "execution_count": 2,
      "metadata": {
        "id": "Qx0VvrD1u6QB"
      },
      "outputs": [],
      "source": [
        "import numpy as np\n",
        "import pandas as pd\n",
        "import matplotlib.pyplot as plt\n",
        "import matplotlib.style as style\n",
        "import seaborn as sns\n",
        "import itertools\n",
        "from datetime import datetime\n",
        "import datetime"
      ]
    },
    {
      "cell_type": "code",
      "source": [
        "missing_val=  ['N/a', 'Na', np.nan]\n",
        "df = pd.read_csv('supermarket_sales - Sheet1.csv', na_values= missing_val)"
      ],
      "metadata": {
        "id": "xWGbQD8fvc7k"
      },
      "execution_count": 3,
      "outputs": []
    },
    {
      "cell_type": "code",
      "source": [
        "df.shape"
      ],
      "metadata": {
        "colab": {
          "base_uri": "https://localhost:8080/"
        },
        "id": "E28GbC4lvnG-",
        "outputId": "8a47290e-93c7-4bcd-9831-0eb13a89f048"
      },
      "execution_count": 4,
      "outputs": [
        {
          "output_type": "execute_result",
          "data": {
            "text/plain": [
              "(1000, 17)"
            ]
          },
          "metadata": {},
          "execution_count": 4
        }
      ]
    },
    {
      "cell_type": "code",
      "source": [
        "pd.set_option('display.max_columns', None)"
      ],
      "metadata": {
        "id": "ww6y2v-Q-hjn"
      },
      "execution_count": 5,
      "outputs": []
    },
    {
      "cell_type": "markdown",
      "source": [
        "# Data Cleaning\n"
      ],
      "metadata": {
        "id": "E6z0u7JOv9zM"
      }
    },
    {
      "cell_type": "code",
      "source": [
        "round(df.isnull().sum() / df.shape[0] * 100.00,2)"
      ],
      "metadata": {
        "colab": {
          "base_uri": "https://localhost:8080/"
        },
        "id": "LBrpx8yevuJn",
        "outputId": "7e7f6435-5859-45f7-d994-1aa7700b6ccf"
      },
      "execution_count": 6,
      "outputs": [
        {
          "output_type": "execute_result",
          "data": {
            "text/plain": [
              "Invoice ID                 0.0\n",
              "Branch                     0.0\n",
              "City                       0.0\n",
              "Customer type              0.0\n",
              "Gender                     0.0\n",
              "Product line               0.0\n",
              "Unit price                 0.0\n",
              "Quantity                   0.0\n",
              "Tax 5%                     0.0\n",
              "Total                      0.0\n",
              "Date                       0.0\n",
              "Time                       0.0\n",
              "Payment                    0.0\n",
              "cogs                       0.0\n",
              "gross margin percentage    0.0\n",
              "gross income               0.0\n",
              "Rating                     0.0\n",
              "dtype: float64"
            ]
          },
          "metadata": {},
          "execution_count": 6
        }
      ]
    },
    {
      "cell_type": "markdown",
      "source": [
        "Majority of the data was cleaned with Excel. This is to verify if there are any other issues.  No nulls were found. "
      ],
      "metadata": {
        "id": "LJq-byMcwipA"
      }
    },
    {
      "cell_type": "code",
      "source": [
        "df.head()"
      ],
      "metadata": {
        "colab": {
          "base_uri": "https://localhost:8080/",
          "height": 337
        },
        "id": "83tUNTixxb2G",
        "outputId": "21d0bfd1-db44-4bd0-b4d7-b00df9781c46"
      },
      "execution_count": 7,
      "outputs": [
        {
          "output_type": "execute_result",
          "data": {
            "text/plain": [
              "    Invoice ID Branch       City Customer type  Gender  \\\n",
              "0  750-67-8428      A     Yangon        Member  Female   \n",
              "1  226-31-3081      C  Naypyitaw        Normal  Female   \n",
              "2  631-41-3108      A     Yangon        Normal    Male   \n",
              "3  123-19-1176      A     Yangon        Member    Male   \n",
              "4  373-73-7910      A     Yangon        Normal    Male   \n",
              "\n",
              "             Product line  Unit price  Quantity   Tax 5%     Total       Date  \\\n",
              "0       Health and beauty       74.69         7  26.1415  548.9715   1/5/2019   \n",
              "1  Electronic accessories       15.28         5   3.8200   80.2200   3/8/2019   \n",
              "2      Home and lifestyle       46.33         7  16.2155  340.5255   3/3/2019   \n",
              "3       Health and beauty       58.22         8  23.2880  489.0480  1/27/2019   \n",
              "4       Sports and travel       86.31         7  30.2085  634.3785   2/8/2019   \n",
              "\n",
              "    Time      Payment    cogs  gross margin percentage  gross income  Rating  \n",
              "0  13:08      Ewallet  522.83                 4.761905       26.1415     9.1  \n",
              "1  10:29         Cash   76.40                 4.761905        3.8200     9.6  \n",
              "2  13:23  Credit card  324.31                 4.761905       16.2155     7.4  \n",
              "3  20:33      Ewallet  465.76                 4.761905       23.2880     8.4  \n",
              "4  10:37      Ewallet  604.17                 4.761905       30.2085     5.3  "
            ],
            "text/html": [
              "\n",
              "  <div id=\"df-141fa497-64d9-4e6a-aba5-decfa1cc9d0d\">\n",
              "    <div class=\"colab-df-container\">\n",
              "      <div>\n",
              "<style scoped>\n",
              "    .dataframe tbody tr th:only-of-type {\n",
              "        vertical-align: middle;\n",
              "    }\n",
              "\n",
              "    .dataframe tbody tr th {\n",
              "        vertical-align: top;\n",
              "    }\n",
              "\n",
              "    .dataframe thead th {\n",
              "        text-align: right;\n",
              "    }\n",
              "</style>\n",
              "<table border=\"1\" class=\"dataframe\">\n",
              "  <thead>\n",
              "    <tr style=\"text-align: right;\">\n",
              "      <th></th>\n",
              "      <th>Invoice ID</th>\n",
              "      <th>Branch</th>\n",
              "      <th>City</th>\n",
              "      <th>Customer type</th>\n",
              "      <th>Gender</th>\n",
              "      <th>Product line</th>\n",
              "      <th>Unit price</th>\n",
              "      <th>Quantity</th>\n",
              "      <th>Tax 5%</th>\n",
              "      <th>Total</th>\n",
              "      <th>Date</th>\n",
              "      <th>Time</th>\n",
              "      <th>Payment</th>\n",
              "      <th>cogs</th>\n",
              "      <th>gross margin percentage</th>\n",
              "      <th>gross income</th>\n",
              "      <th>Rating</th>\n",
              "    </tr>\n",
              "  </thead>\n",
              "  <tbody>\n",
              "    <tr>\n",
              "      <th>0</th>\n",
              "      <td>750-67-8428</td>\n",
              "      <td>A</td>\n",
              "      <td>Yangon</td>\n",
              "      <td>Member</td>\n",
              "      <td>Female</td>\n",
              "      <td>Health and beauty</td>\n",
              "      <td>74.69</td>\n",
              "      <td>7</td>\n",
              "      <td>26.1415</td>\n",
              "      <td>548.9715</td>\n",
              "      <td>1/5/2019</td>\n",
              "      <td>13:08</td>\n",
              "      <td>Ewallet</td>\n",
              "      <td>522.83</td>\n",
              "      <td>4.761905</td>\n",
              "      <td>26.1415</td>\n",
              "      <td>9.1</td>\n",
              "    </tr>\n",
              "    <tr>\n",
              "      <th>1</th>\n",
              "      <td>226-31-3081</td>\n",
              "      <td>C</td>\n",
              "      <td>Naypyitaw</td>\n",
              "      <td>Normal</td>\n",
              "      <td>Female</td>\n",
              "      <td>Electronic accessories</td>\n",
              "      <td>15.28</td>\n",
              "      <td>5</td>\n",
              "      <td>3.8200</td>\n",
              "      <td>80.2200</td>\n",
              "      <td>3/8/2019</td>\n",
              "      <td>10:29</td>\n",
              "      <td>Cash</td>\n",
              "      <td>76.40</td>\n",
              "      <td>4.761905</td>\n",
              "      <td>3.8200</td>\n",
              "      <td>9.6</td>\n",
              "    </tr>\n",
              "    <tr>\n",
              "      <th>2</th>\n",
              "      <td>631-41-3108</td>\n",
              "      <td>A</td>\n",
              "      <td>Yangon</td>\n",
              "      <td>Normal</td>\n",
              "      <td>Male</td>\n",
              "      <td>Home and lifestyle</td>\n",
              "      <td>46.33</td>\n",
              "      <td>7</td>\n",
              "      <td>16.2155</td>\n",
              "      <td>340.5255</td>\n",
              "      <td>3/3/2019</td>\n",
              "      <td>13:23</td>\n",
              "      <td>Credit card</td>\n",
              "      <td>324.31</td>\n",
              "      <td>4.761905</td>\n",
              "      <td>16.2155</td>\n",
              "      <td>7.4</td>\n",
              "    </tr>\n",
              "    <tr>\n",
              "      <th>3</th>\n",
              "      <td>123-19-1176</td>\n",
              "      <td>A</td>\n",
              "      <td>Yangon</td>\n",
              "      <td>Member</td>\n",
              "      <td>Male</td>\n",
              "      <td>Health and beauty</td>\n",
              "      <td>58.22</td>\n",
              "      <td>8</td>\n",
              "      <td>23.2880</td>\n",
              "      <td>489.0480</td>\n",
              "      <td>1/27/2019</td>\n",
              "      <td>20:33</td>\n",
              "      <td>Ewallet</td>\n",
              "      <td>465.76</td>\n",
              "      <td>4.761905</td>\n",
              "      <td>23.2880</td>\n",
              "      <td>8.4</td>\n",
              "    </tr>\n",
              "    <tr>\n",
              "      <th>4</th>\n",
              "      <td>373-73-7910</td>\n",
              "      <td>A</td>\n",
              "      <td>Yangon</td>\n",
              "      <td>Normal</td>\n",
              "      <td>Male</td>\n",
              "      <td>Sports and travel</td>\n",
              "      <td>86.31</td>\n",
              "      <td>7</td>\n",
              "      <td>30.2085</td>\n",
              "      <td>634.3785</td>\n",
              "      <td>2/8/2019</td>\n",
              "      <td>10:37</td>\n",
              "      <td>Ewallet</td>\n",
              "      <td>604.17</td>\n",
              "      <td>4.761905</td>\n",
              "      <td>30.2085</td>\n",
              "      <td>5.3</td>\n",
              "    </tr>\n",
              "  </tbody>\n",
              "</table>\n",
              "</div>\n",
              "      <button class=\"colab-df-convert\" onclick=\"convertToInteractive('df-141fa497-64d9-4e6a-aba5-decfa1cc9d0d')\"\n",
              "              title=\"Convert this dataframe to an interactive table.\"\n",
              "              style=\"display:none;\">\n",
              "        \n",
              "  <svg xmlns=\"http://www.w3.org/2000/svg\" height=\"24px\"viewBox=\"0 0 24 24\"\n",
              "       width=\"24px\">\n",
              "    <path d=\"M0 0h24v24H0V0z\" fill=\"none\"/>\n",
              "    <path d=\"M18.56 5.44l.94 2.06.94-2.06 2.06-.94-2.06-.94-.94-2.06-.94 2.06-2.06.94zm-11 1L8.5 8.5l.94-2.06 2.06-.94-2.06-.94L8.5 2.5l-.94 2.06-2.06.94zm10 10l.94 2.06.94-2.06 2.06-.94-2.06-.94-.94-2.06-.94 2.06-2.06.94z\"/><path d=\"M17.41 7.96l-1.37-1.37c-.4-.4-.92-.59-1.43-.59-.52 0-1.04.2-1.43.59L10.3 9.45l-7.72 7.72c-.78.78-.78 2.05 0 2.83L4 21.41c.39.39.9.59 1.41.59.51 0 1.02-.2 1.41-.59l7.78-7.78 2.81-2.81c.8-.78.8-2.07 0-2.86zM5.41 20L4 18.59l7.72-7.72 1.47 1.35L5.41 20z\"/>\n",
              "  </svg>\n",
              "      </button>\n",
              "      \n",
              "  <style>\n",
              "    .colab-df-container {\n",
              "      display:flex;\n",
              "      flex-wrap:wrap;\n",
              "      gap: 12px;\n",
              "    }\n",
              "\n",
              "    .colab-df-convert {\n",
              "      background-color: #E8F0FE;\n",
              "      border: none;\n",
              "      border-radius: 50%;\n",
              "      cursor: pointer;\n",
              "      display: none;\n",
              "      fill: #1967D2;\n",
              "      height: 32px;\n",
              "      padding: 0 0 0 0;\n",
              "      width: 32px;\n",
              "    }\n",
              "\n",
              "    .colab-df-convert:hover {\n",
              "      background-color: #E2EBFA;\n",
              "      box-shadow: 0px 1px 2px rgba(60, 64, 67, 0.3), 0px 1px 3px 1px rgba(60, 64, 67, 0.15);\n",
              "      fill: #174EA6;\n",
              "    }\n",
              "\n",
              "    [theme=dark] .colab-df-convert {\n",
              "      background-color: #3B4455;\n",
              "      fill: #D2E3FC;\n",
              "    }\n",
              "\n",
              "    [theme=dark] .colab-df-convert:hover {\n",
              "      background-color: #434B5C;\n",
              "      box-shadow: 0px 1px 3px 1px rgba(0, 0, 0, 0.15);\n",
              "      filter: drop-shadow(0px 1px 2px rgba(0, 0, 0, 0.3));\n",
              "      fill: #FFFFFF;\n",
              "    }\n",
              "  </style>\n",
              "\n",
              "      <script>\n",
              "        const buttonEl =\n",
              "          document.querySelector('#df-141fa497-64d9-4e6a-aba5-decfa1cc9d0d button.colab-df-convert');\n",
              "        buttonEl.style.display =\n",
              "          google.colab.kernel.accessAllowed ? 'block' : 'none';\n",
              "\n",
              "        async function convertToInteractive(key) {\n",
              "          const element = document.querySelector('#df-141fa497-64d9-4e6a-aba5-decfa1cc9d0d');\n",
              "          const dataTable =\n",
              "            await google.colab.kernel.invokeFunction('convertToInteractive',\n",
              "                                                     [key], {});\n",
              "          if (!dataTable) return;\n",
              "\n",
              "          const docLinkHtml = 'Like what you see? Visit the ' +\n",
              "            '<a target=\"_blank\" href=https://colab.research.google.com/notebooks/data_table.ipynb>data table notebook</a>'\n",
              "            + ' to learn more about interactive tables.';\n",
              "          element.innerHTML = '';\n",
              "          dataTable['output_type'] = 'display_data';\n",
              "          await google.colab.output.renderOutput(dataTable, element);\n",
              "          const docLink = document.createElement('div');\n",
              "          docLink.innerHTML = docLinkHtml;\n",
              "          element.appendChild(docLink);\n",
              "        }\n",
              "      </script>\n",
              "    </div>\n",
              "  </div>\n",
              "  "
            ]
          },
          "metadata": {},
          "execution_count": 7
        }
      ]
    },
    {
      "cell_type": "code",
      "source": [
        "df.describe()"
      ],
      "metadata": {
        "colab": {
          "base_uri": "https://localhost:8080/",
          "height": 300
        },
        "id": "19nWI4C1ywLG",
        "outputId": "6cf194ad-90b8-4b12-857d-e567f1315cf7"
      },
      "execution_count": 8,
      "outputs": [
        {
          "output_type": "execute_result",
          "data": {
            "text/plain": [
              "        Unit price     Quantity       Tax 5%        Total        cogs  \\\n",
              "count  1000.000000  1000.000000  1000.000000  1000.000000  1000.00000   \n",
              "mean     55.672130     5.510000    15.379369   322.966749   307.58738   \n",
              "std      26.494628     2.923431    11.708825   245.885335   234.17651   \n",
              "min      10.080000     1.000000     0.508500    10.678500    10.17000   \n",
              "25%      32.875000     3.000000     5.924875   124.422375   118.49750   \n",
              "50%      55.230000     5.000000    12.088000   253.848000   241.76000   \n",
              "75%      77.935000     8.000000    22.445250   471.350250   448.90500   \n",
              "max      99.960000    10.000000    49.650000  1042.650000   993.00000   \n",
              "\n",
              "       gross margin percentage  gross income      Rating  \n",
              "count             1.000000e+03   1000.000000  1000.00000  \n",
              "mean              4.761905e+00     15.379369     6.97270  \n",
              "std               6.131498e-14     11.708825     1.71858  \n",
              "min               4.761905e+00      0.508500     4.00000  \n",
              "25%               4.761905e+00      5.924875     5.50000  \n",
              "50%               4.761905e+00     12.088000     7.00000  \n",
              "75%               4.761905e+00     22.445250     8.50000  \n",
              "max               4.761905e+00     49.650000    10.00000  "
            ],
            "text/html": [
              "\n",
              "  <div id=\"df-2c9ef6b3-0503-4dd7-9ffd-4c9860ef584e\">\n",
              "    <div class=\"colab-df-container\">\n",
              "      <div>\n",
              "<style scoped>\n",
              "    .dataframe tbody tr th:only-of-type {\n",
              "        vertical-align: middle;\n",
              "    }\n",
              "\n",
              "    .dataframe tbody tr th {\n",
              "        vertical-align: top;\n",
              "    }\n",
              "\n",
              "    .dataframe thead th {\n",
              "        text-align: right;\n",
              "    }\n",
              "</style>\n",
              "<table border=\"1\" class=\"dataframe\">\n",
              "  <thead>\n",
              "    <tr style=\"text-align: right;\">\n",
              "      <th></th>\n",
              "      <th>Unit price</th>\n",
              "      <th>Quantity</th>\n",
              "      <th>Tax 5%</th>\n",
              "      <th>Total</th>\n",
              "      <th>cogs</th>\n",
              "      <th>gross margin percentage</th>\n",
              "      <th>gross income</th>\n",
              "      <th>Rating</th>\n",
              "    </tr>\n",
              "  </thead>\n",
              "  <tbody>\n",
              "    <tr>\n",
              "      <th>count</th>\n",
              "      <td>1000.000000</td>\n",
              "      <td>1000.000000</td>\n",
              "      <td>1000.000000</td>\n",
              "      <td>1000.000000</td>\n",
              "      <td>1000.00000</td>\n",
              "      <td>1.000000e+03</td>\n",
              "      <td>1000.000000</td>\n",
              "      <td>1000.00000</td>\n",
              "    </tr>\n",
              "    <tr>\n",
              "      <th>mean</th>\n",
              "      <td>55.672130</td>\n",
              "      <td>5.510000</td>\n",
              "      <td>15.379369</td>\n",
              "      <td>322.966749</td>\n",
              "      <td>307.58738</td>\n",
              "      <td>4.761905e+00</td>\n",
              "      <td>15.379369</td>\n",
              "      <td>6.97270</td>\n",
              "    </tr>\n",
              "    <tr>\n",
              "      <th>std</th>\n",
              "      <td>26.494628</td>\n",
              "      <td>2.923431</td>\n",
              "      <td>11.708825</td>\n",
              "      <td>245.885335</td>\n",
              "      <td>234.17651</td>\n",
              "      <td>6.131498e-14</td>\n",
              "      <td>11.708825</td>\n",
              "      <td>1.71858</td>\n",
              "    </tr>\n",
              "    <tr>\n",
              "      <th>min</th>\n",
              "      <td>10.080000</td>\n",
              "      <td>1.000000</td>\n",
              "      <td>0.508500</td>\n",
              "      <td>10.678500</td>\n",
              "      <td>10.17000</td>\n",
              "      <td>4.761905e+00</td>\n",
              "      <td>0.508500</td>\n",
              "      <td>4.00000</td>\n",
              "    </tr>\n",
              "    <tr>\n",
              "      <th>25%</th>\n",
              "      <td>32.875000</td>\n",
              "      <td>3.000000</td>\n",
              "      <td>5.924875</td>\n",
              "      <td>124.422375</td>\n",
              "      <td>118.49750</td>\n",
              "      <td>4.761905e+00</td>\n",
              "      <td>5.924875</td>\n",
              "      <td>5.50000</td>\n",
              "    </tr>\n",
              "    <tr>\n",
              "      <th>50%</th>\n",
              "      <td>55.230000</td>\n",
              "      <td>5.000000</td>\n",
              "      <td>12.088000</td>\n",
              "      <td>253.848000</td>\n",
              "      <td>241.76000</td>\n",
              "      <td>4.761905e+00</td>\n",
              "      <td>12.088000</td>\n",
              "      <td>7.00000</td>\n",
              "    </tr>\n",
              "    <tr>\n",
              "      <th>75%</th>\n",
              "      <td>77.935000</td>\n",
              "      <td>8.000000</td>\n",
              "      <td>22.445250</td>\n",
              "      <td>471.350250</td>\n",
              "      <td>448.90500</td>\n",
              "      <td>4.761905e+00</td>\n",
              "      <td>22.445250</td>\n",
              "      <td>8.50000</td>\n",
              "    </tr>\n",
              "    <tr>\n",
              "      <th>max</th>\n",
              "      <td>99.960000</td>\n",
              "      <td>10.000000</td>\n",
              "      <td>49.650000</td>\n",
              "      <td>1042.650000</td>\n",
              "      <td>993.00000</td>\n",
              "      <td>4.761905e+00</td>\n",
              "      <td>49.650000</td>\n",
              "      <td>10.00000</td>\n",
              "    </tr>\n",
              "  </tbody>\n",
              "</table>\n",
              "</div>\n",
              "      <button class=\"colab-df-convert\" onclick=\"convertToInteractive('df-2c9ef6b3-0503-4dd7-9ffd-4c9860ef584e')\"\n",
              "              title=\"Convert this dataframe to an interactive table.\"\n",
              "              style=\"display:none;\">\n",
              "        \n",
              "  <svg xmlns=\"http://www.w3.org/2000/svg\" height=\"24px\"viewBox=\"0 0 24 24\"\n",
              "       width=\"24px\">\n",
              "    <path d=\"M0 0h24v24H0V0z\" fill=\"none\"/>\n",
              "    <path d=\"M18.56 5.44l.94 2.06.94-2.06 2.06-.94-2.06-.94-.94-2.06-.94 2.06-2.06.94zm-11 1L8.5 8.5l.94-2.06 2.06-.94-2.06-.94L8.5 2.5l-.94 2.06-2.06.94zm10 10l.94 2.06.94-2.06 2.06-.94-2.06-.94-.94-2.06-.94 2.06-2.06.94z\"/><path d=\"M17.41 7.96l-1.37-1.37c-.4-.4-.92-.59-1.43-.59-.52 0-1.04.2-1.43.59L10.3 9.45l-7.72 7.72c-.78.78-.78 2.05 0 2.83L4 21.41c.39.39.9.59 1.41.59.51 0 1.02-.2 1.41-.59l7.78-7.78 2.81-2.81c.8-.78.8-2.07 0-2.86zM5.41 20L4 18.59l7.72-7.72 1.47 1.35L5.41 20z\"/>\n",
              "  </svg>\n",
              "      </button>\n",
              "      \n",
              "  <style>\n",
              "    .colab-df-container {\n",
              "      display:flex;\n",
              "      flex-wrap:wrap;\n",
              "      gap: 12px;\n",
              "    }\n",
              "\n",
              "    .colab-df-convert {\n",
              "      background-color: #E8F0FE;\n",
              "      border: none;\n",
              "      border-radius: 50%;\n",
              "      cursor: pointer;\n",
              "      display: none;\n",
              "      fill: #1967D2;\n",
              "      height: 32px;\n",
              "      padding: 0 0 0 0;\n",
              "      width: 32px;\n",
              "    }\n",
              "\n",
              "    .colab-df-convert:hover {\n",
              "      background-color: #E2EBFA;\n",
              "      box-shadow: 0px 1px 2px rgba(60, 64, 67, 0.3), 0px 1px 3px 1px rgba(60, 64, 67, 0.15);\n",
              "      fill: #174EA6;\n",
              "    }\n",
              "\n",
              "    [theme=dark] .colab-df-convert {\n",
              "      background-color: #3B4455;\n",
              "      fill: #D2E3FC;\n",
              "    }\n",
              "\n",
              "    [theme=dark] .colab-df-convert:hover {\n",
              "      background-color: #434B5C;\n",
              "      box-shadow: 0px 1px 3px 1px rgba(0, 0, 0, 0.15);\n",
              "      filter: drop-shadow(0px 1px 2px rgba(0, 0, 0, 0.3));\n",
              "      fill: #FFFFFF;\n",
              "    }\n",
              "  </style>\n",
              "\n",
              "      <script>\n",
              "        const buttonEl =\n",
              "          document.querySelector('#df-2c9ef6b3-0503-4dd7-9ffd-4c9860ef584e button.colab-df-convert');\n",
              "        buttonEl.style.display =\n",
              "          google.colab.kernel.accessAllowed ? 'block' : 'none';\n",
              "\n",
              "        async function convertToInteractive(key) {\n",
              "          const element = document.querySelector('#df-2c9ef6b3-0503-4dd7-9ffd-4c9860ef584e');\n",
              "          const dataTable =\n",
              "            await google.colab.kernel.invokeFunction('convertToInteractive',\n",
              "                                                     [key], {});\n",
              "          if (!dataTable) return;\n",
              "\n",
              "          const docLinkHtml = 'Like what you see? Visit the ' +\n",
              "            '<a target=\"_blank\" href=https://colab.research.google.com/notebooks/data_table.ipynb>data table notebook</a>'\n",
              "            + ' to learn more about interactive tables.';\n",
              "          element.innerHTML = '';\n",
              "          dataTable['output_type'] = 'display_data';\n",
              "          await google.colab.output.renderOutput(dataTable, element);\n",
              "          const docLink = document.createElement('div');\n",
              "          docLink.innerHTML = docLinkHtml;\n",
              "          element.appendChild(docLink);\n",
              "        }\n",
              "      </script>\n",
              "    </div>\n",
              "  </div>\n",
              "  "
            ]
          },
          "metadata": {},
          "execution_count": 8
        }
      ]
    },
    {
      "cell_type": "code",
      "source": [
        "df.rename({'Unit price': 'Unit_price', 'Tax 5%': 'Tax', 'gross income': 'Gros_income'}, axis=1, inplace=True)"
      ],
      "metadata": {
        "id": "HUjmH6BM2u8c"
      },
      "execution_count": 9,
      "outputs": []
    },
    {
      "cell_type": "markdown",
      "source": [
        "##Binning"
      ],
      "metadata": {
        "id": "c0rHs3w4yJmb"
      }
    },
    {
      "cell_type": "markdown",
      "source": [
        "### Unite Price"
      ],
      "metadata": {
        "id": "0LbxVjQZyUkp"
      }
    },
    {
      "cell_type": "code",
      "source": [
        "def UPBin(row):\n",
        "    if row.Unit_price >= 90:\n",
        "        return '>=90'\n",
        "    elif row.Unit_price <90 and row.Unit_price >= 80:\n",
        "        return '80 - <90'\n",
        "    elif row.Unit_price\t<80 and row.Unit_price >= 70:\n",
        "        return '70 - <80'\n",
        "    elif row.Unit_price\t<70 and row.Unit_price >= 60:\n",
        "        return '60 - <70'\n",
        "    elif row.Unit_price\t<60 and row.Unit_price >= 50:\n",
        "        return '50 - <60'\n",
        "    elif row.Unit_price\t<50 and row.Unit_price >= 40:\n",
        "        return '40 - <50'\n",
        "    elif row.Unit_price\t<40 and row.Unit_price >= 30:\n",
        "        return '30 - <40'\n",
        "    elif row.Unit_price <30 and row.Unit_price >= 20:\n",
        "        return '20 - <30'\n",
        "    elif row.Unit_price <20 and row.Unit_price >= 10:\n",
        "        return '10 - <20'\n",
        "    else:\n",
        "        return '<10'"
      ],
      "metadata": {
        "id": "9VRcYrZvyPJH"
      },
      "execution_count": 10,
      "outputs": []
    },
    {
      "cell_type": "code",
      "source": [
        "df['UnitPriceBin'] = df.apply(UPBin, axis='columns')"
      ],
      "metadata": {
        "id": "m2j6-Up7yPgz"
      },
      "execution_count": 11,
      "outputs": []
    },
    {
      "cell_type": "markdown",
      "source": [
        "###Tax"
      ],
      "metadata": {
        "id": "4QYwQi8VyP4E"
      }
    },
    {
      "cell_type": "code",
      "source": [
        "def TaxBin(row):\n",
        "    if row.Tax >= 50:\n",
        "        return '>=50' \n",
        "    elif row.Tax <50 and row.Tax >= 40:\n",
        "        return '40 - <50'\n",
        "    elif row.Tax <40 and row.Tax >= 30:\n",
        "        return '30 - <40'\n",
        "    elif row.Tax <30 and row.Tax >= 20:\n",
        "        return '20 - <30'\n",
        "    elif row.Tax <20 and row.Tax >= 10:\n",
        "        return '10 - <20'\n",
        "    elif row.Tax <10 and row.Tax >= 5:\n",
        "        return '5 - <10'\n",
        "    else:\n",
        "        return '<5'"
      ],
      "metadata": {
        "id": "davRcp4cyQkr"
      },
      "execution_count": 12,
      "outputs": []
    },
    {
      "cell_type": "code",
      "source": [
        "df['TaxBin'] = df.apply(TaxBin, axis='columns')"
      ],
      "metadata": {
        "id": "te07zfOsyQyR"
      },
      "execution_count": 13,
      "outputs": []
    },
    {
      "cell_type": "markdown",
      "source": [
        "###Total"
      ],
      "metadata": {
        "id": "PqUy0Q24yRHd"
      }
    },
    {
      "cell_type": "code",
      "source": [
        "def TotalBin(row):\n",
        "    if row.Total >= 1000:\n",
        "        return '>=1000' \n",
        "    elif row.Total <1000 and row.Total >= 500:\n",
        "        return '500 - <1000'\n",
        "    elif row.Total <500 and row.Total >= 400:\n",
        "        return '400 - <500'\n",
        "    elif row.Total <400 and row.Total >= 300:\n",
        "        return '300 - <400'\n",
        "    elif row.Total <300 and row.Total >= 200:\n",
        "        return '200 - <300'\n",
        "    elif row.Total <200 and row.Total >= 100:\n",
        "        return '100 - <200'\n",
        "    elif row.Total <100 and row.Total >= 50:\n",
        "        return '100 - <50'\n",
        "    else:\n",
        "        return '<50'"
      ],
      "metadata": {
        "id": "iO2t0Q1ryReX"
      },
      "execution_count": 14,
      "outputs": []
    },
    {
      "cell_type": "code",
      "source": [
        "df['TotalBin'] = df.apply(TotalBin, axis='columns')"
      ],
      "metadata": {
        "id": "XQEu_h08yRrX"
      },
      "execution_count": 15,
      "outputs": []
    },
    {
      "cell_type": "markdown",
      "source": [
        "### Cost of Goods"
      ],
      "metadata": {
        "id": "JitrgVgvySCT"
      }
    },
    {
      "cell_type": "code",
      "source": [
        "def CogsBin(row):\n",
        "    if row.cogs >= 1000:\n",
        "        return '>=1000' \n",
        "    elif row.cogs <1000 and row.cogs >= 500:\n",
        "        return '500 - <1000'\n",
        "    elif row.cogs <500 and row.cogs >= 400:\n",
        "        return '400 - <500'\n",
        "    elif row.cogs <400 and row.cogs >= 300:\n",
        "        return '300 - <400'\n",
        "    elif row.cogs <300 and row.cogs >= 200:\n",
        "        return '200 - <300'\n",
        "    elif row.cogs <200 and row.cogs >= 100:\n",
        "        return '100 - <200'\n",
        "    elif row.cogs <100 and row.cogs >= 50:\n",
        "        return '100 - <50'\n",
        "    else:\n",
        "        return '<50'"
      ],
      "metadata": {
        "id": "I3_P4R8HySgf"
      },
      "execution_count": 16,
      "outputs": []
    },
    {
      "cell_type": "code",
      "source": [
        "df['CogsBin'] = df.apply(CogsBin, axis='columns')"
      ],
      "metadata": {
        "id": "cia9VPuXySu_"
      },
      "execution_count": 17,
      "outputs": []
    },
    {
      "cell_type": "markdown",
      "source": [
        "### Gross Income"
      ],
      "metadata": {
        "id": "KxqGJcz18jXy"
      }
    },
    {
      "cell_type": "code",
      "source": [
        "def GIBin(row):\n",
        "    if row.Gros_income >= 50:\n",
        "        return '>=50' \n",
        "    elif row.Gros_income <50 and row.Gros_income >= 40:\n",
        "        return '40 - <50'\n",
        "    elif row.Gros_income <40 and row.Gros_income >= 30:\n",
        "        return '30 - <40'\n",
        "    elif row.Gros_income <30 and row.Gros_income >= 20:\n",
        "        return '20 - <30'\n",
        "    elif row.Gros_income <20 and row.Gros_income >= 10:\n",
        "        return '10 - <20'\n",
        "    elif row.Gros_income <10 and row.Gros_income >= 5:\n",
        "        return '5 - <10'\n",
        "    else:\n",
        "        return '<5'"
      ],
      "metadata": {
        "id": "p8wl6hlI8kU4"
      },
      "execution_count": 18,
      "outputs": []
    },
    {
      "cell_type": "code",
      "source": [
        "df['GIBin'] = df.apply(GIBin, axis='columns')"
      ],
      "metadata": {
        "id": "SIzKc5fZ8jpm"
      },
      "execution_count": 19,
      "outputs": []
    },
    {
      "cell_type": "markdown",
      "source": [
        "### Ratings"
      ],
      "metadata": {
        "id": "En8g6bmGyTSC"
      }
    },
    {
      "cell_type": "code",
      "source": [
        "def RatingsBin(row):\n",
        "    if row.Rating >= 9:\n",
        "        return '>= 9' \n",
        "    elif row.Rating <9 and row.Rating >= 8:\n",
        "        return '8 - <9'\n",
        "    elif row.Rating <8 and row.Rating >= 7:\n",
        "        return '7 - <8'\n",
        "    elif row.Rating <7 and row.Rating >= 6:\n",
        "        return '6 - <7'\n",
        "    elif row.Rating <6 and row.Rating >= 5:\n",
        "        return '5 - <6'\n",
        "    else:\n",
        "        return '<5'"
      ],
      "metadata": {
        "id": "nOSKJSHI9PjT"
      },
      "execution_count": 20,
      "outputs": []
    },
    {
      "cell_type": "code",
      "source": [
        "df['RatingsBin'] = df.apply(RatingsBin, axis='columns')"
      ],
      "metadata": {
        "id": "M7ubXino9P_F"
      },
      "execution_count": 21,
      "outputs": []
    },
    {
      "cell_type": "code",
      "source": [
        "df.head()"
      ],
      "metadata": {
        "colab": {
          "base_uri": "https://localhost:8080/",
          "height": 392
        },
        "id": "D_Gc3aUC-tuQ",
        "outputId": "214c1af6-fcc0-4efb-afaf-43042313e530"
      },
      "execution_count": 22,
      "outputs": [
        {
          "output_type": "execute_result",
          "data": {
            "text/plain": [
              "    Invoice ID Branch       City Customer type  Gender  \\\n",
              "0  750-67-8428      A     Yangon        Member  Female   \n",
              "1  226-31-3081      C  Naypyitaw        Normal  Female   \n",
              "2  631-41-3108      A     Yangon        Normal    Male   \n",
              "3  123-19-1176      A     Yangon        Member    Male   \n",
              "4  373-73-7910      A     Yangon        Normal    Male   \n",
              "\n",
              "             Product line  Unit_price  Quantity      Tax     Total       Date  \\\n",
              "0       Health and beauty       74.69         7  26.1415  548.9715   1/5/2019   \n",
              "1  Electronic accessories       15.28         5   3.8200   80.2200   3/8/2019   \n",
              "2      Home and lifestyle       46.33         7  16.2155  340.5255   3/3/2019   \n",
              "3       Health and beauty       58.22         8  23.2880  489.0480  1/27/2019   \n",
              "4       Sports and travel       86.31         7  30.2085  634.3785   2/8/2019   \n",
              "\n",
              "    Time      Payment    cogs  gross margin percentage  Gros_income  Rating  \\\n",
              "0  13:08      Ewallet  522.83                 4.761905      26.1415     9.1   \n",
              "1  10:29         Cash   76.40                 4.761905       3.8200     9.6   \n",
              "2  13:23  Credit card  324.31                 4.761905      16.2155     7.4   \n",
              "3  20:33      Ewallet  465.76                 4.761905      23.2880     8.4   \n",
              "4  10:37      Ewallet  604.17                 4.761905      30.2085     5.3   \n",
              "\n",
              "  UnitPriceBin    TaxBin     TotalBin      CogsBin     GIBin RatingsBin  \n",
              "0     70 - <80  20 - <30  500 - <1000  500 - <1000  20 - <30       >= 9  \n",
              "1     10 - <20        <5    100 - <50    100 - <50        <5       >= 9  \n",
              "2     40 - <50  10 - <20   300 - <400   300 - <400  10 - <20     7 - <8  \n",
              "3     50 - <60  20 - <30   400 - <500   400 - <500  20 - <30     8 - <9  \n",
              "4     80 - <90  30 - <40  500 - <1000  500 - <1000  30 - <40     5 - <6  "
            ],
            "text/html": [
              "\n",
              "  <div id=\"df-c8a583cf-9512-41f0-ba34-f122c45afb42\">\n",
              "    <div class=\"colab-df-container\">\n",
              "      <div>\n",
              "<style scoped>\n",
              "    .dataframe tbody tr th:only-of-type {\n",
              "        vertical-align: middle;\n",
              "    }\n",
              "\n",
              "    .dataframe tbody tr th {\n",
              "        vertical-align: top;\n",
              "    }\n",
              "\n",
              "    .dataframe thead th {\n",
              "        text-align: right;\n",
              "    }\n",
              "</style>\n",
              "<table border=\"1\" class=\"dataframe\">\n",
              "  <thead>\n",
              "    <tr style=\"text-align: right;\">\n",
              "      <th></th>\n",
              "      <th>Invoice ID</th>\n",
              "      <th>Branch</th>\n",
              "      <th>City</th>\n",
              "      <th>Customer type</th>\n",
              "      <th>Gender</th>\n",
              "      <th>Product line</th>\n",
              "      <th>Unit_price</th>\n",
              "      <th>Quantity</th>\n",
              "      <th>Tax</th>\n",
              "      <th>Total</th>\n",
              "      <th>Date</th>\n",
              "      <th>Time</th>\n",
              "      <th>Payment</th>\n",
              "      <th>cogs</th>\n",
              "      <th>gross margin percentage</th>\n",
              "      <th>Gros_income</th>\n",
              "      <th>Rating</th>\n",
              "      <th>UnitPriceBin</th>\n",
              "      <th>TaxBin</th>\n",
              "      <th>TotalBin</th>\n",
              "      <th>CogsBin</th>\n",
              "      <th>GIBin</th>\n",
              "      <th>RatingsBin</th>\n",
              "    </tr>\n",
              "  </thead>\n",
              "  <tbody>\n",
              "    <tr>\n",
              "      <th>0</th>\n",
              "      <td>750-67-8428</td>\n",
              "      <td>A</td>\n",
              "      <td>Yangon</td>\n",
              "      <td>Member</td>\n",
              "      <td>Female</td>\n",
              "      <td>Health and beauty</td>\n",
              "      <td>74.69</td>\n",
              "      <td>7</td>\n",
              "      <td>26.1415</td>\n",
              "      <td>548.9715</td>\n",
              "      <td>1/5/2019</td>\n",
              "      <td>13:08</td>\n",
              "      <td>Ewallet</td>\n",
              "      <td>522.83</td>\n",
              "      <td>4.761905</td>\n",
              "      <td>26.1415</td>\n",
              "      <td>9.1</td>\n",
              "      <td>70 - &lt;80</td>\n",
              "      <td>20 - &lt;30</td>\n",
              "      <td>500 - &lt;1000</td>\n",
              "      <td>500 - &lt;1000</td>\n",
              "      <td>20 - &lt;30</td>\n",
              "      <td>&gt;= 9</td>\n",
              "    </tr>\n",
              "    <tr>\n",
              "      <th>1</th>\n",
              "      <td>226-31-3081</td>\n",
              "      <td>C</td>\n",
              "      <td>Naypyitaw</td>\n",
              "      <td>Normal</td>\n",
              "      <td>Female</td>\n",
              "      <td>Electronic accessories</td>\n",
              "      <td>15.28</td>\n",
              "      <td>5</td>\n",
              "      <td>3.8200</td>\n",
              "      <td>80.2200</td>\n",
              "      <td>3/8/2019</td>\n",
              "      <td>10:29</td>\n",
              "      <td>Cash</td>\n",
              "      <td>76.40</td>\n",
              "      <td>4.761905</td>\n",
              "      <td>3.8200</td>\n",
              "      <td>9.6</td>\n",
              "      <td>10 - &lt;20</td>\n",
              "      <td>&lt;5</td>\n",
              "      <td>100 - &lt;50</td>\n",
              "      <td>100 - &lt;50</td>\n",
              "      <td>&lt;5</td>\n",
              "      <td>&gt;= 9</td>\n",
              "    </tr>\n",
              "    <tr>\n",
              "      <th>2</th>\n",
              "      <td>631-41-3108</td>\n",
              "      <td>A</td>\n",
              "      <td>Yangon</td>\n",
              "      <td>Normal</td>\n",
              "      <td>Male</td>\n",
              "      <td>Home and lifestyle</td>\n",
              "      <td>46.33</td>\n",
              "      <td>7</td>\n",
              "      <td>16.2155</td>\n",
              "      <td>340.5255</td>\n",
              "      <td>3/3/2019</td>\n",
              "      <td>13:23</td>\n",
              "      <td>Credit card</td>\n",
              "      <td>324.31</td>\n",
              "      <td>4.761905</td>\n",
              "      <td>16.2155</td>\n",
              "      <td>7.4</td>\n",
              "      <td>40 - &lt;50</td>\n",
              "      <td>10 - &lt;20</td>\n",
              "      <td>300 - &lt;400</td>\n",
              "      <td>300 - &lt;400</td>\n",
              "      <td>10 - &lt;20</td>\n",
              "      <td>7 - &lt;8</td>\n",
              "    </tr>\n",
              "    <tr>\n",
              "      <th>3</th>\n",
              "      <td>123-19-1176</td>\n",
              "      <td>A</td>\n",
              "      <td>Yangon</td>\n",
              "      <td>Member</td>\n",
              "      <td>Male</td>\n",
              "      <td>Health and beauty</td>\n",
              "      <td>58.22</td>\n",
              "      <td>8</td>\n",
              "      <td>23.2880</td>\n",
              "      <td>489.0480</td>\n",
              "      <td>1/27/2019</td>\n",
              "      <td>20:33</td>\n",
              "      <td>Ewallet</td>\n",
              "      <td>465.76</td>\n",
              "      <td>4.761905</td>\n",
              "      <td>23.2880</td>\n",
              "      <td>8.4</td>\n",
              "      <td>50 - &lt;60</td>\n",
              "      <td>20 - &lt;30</td>\n",
              "      <td>400 - &lt;500</td>\n",
              "      <td>400 - &lt;500</td>\n",
              "      <td>20 - &lt;30</td>\n",
              "      <td>8 - &lt;9</td>\n",
              "    </tr>\n",
              "    <tr>\n",
              "      <th>4</th>\n",
              "      <td>373-73-7910</td>\n",
              "      <td>A</td>\n",
              "      <td>Yangon</td>\n",
              "      <td>Normal</td>\n",
              "      <td>Male</td>\n",
              "      <td>Sports and travel</td>\n",
              "      <td>86.31</td>\n",
              "      <td>7</td>\n",
              "      <td>30.2085</td>\n",
              "      <td>634.3785</td>\n",
              "      <td>2/8/2019</td>\n",
              "      <td>10:37</td>\n",
              "      <td>Ewallet</td>\n",
              "      <td>604.17</td>\n",
              "      <td>4.761905</td>\n",
              "      <td>30.2085</td>\n",
              "      <td>5.3</td>\n",
              "      <td>80 - &lt;90</td>\n",
              "      <td>30 - &lt;40</td>\n",
              "      <td>500 - &lt;1000</td>\n",
              "      <td>500 - &lt;1000</td>\n",
              "      <td>30 - &lt;40</td>\n",
              "      <td>5 - &lt;6</td>\n",
              "    </tr>\n",
              "  </tbody>\n",
              "</table>\n",
              "</div>\n",
              "      <button class=\"colab-df-convert\" onclick=\"convertToInteractive('df-c8a583cf-9512-41f0-ba34-f122c45afb42')\"\n",
              "              title=\"Convert this dataframe to an interactive table.\"\n",
              "              style=\"display:none;\">\n",
              "        \n",
              "  <svg xmlns=\"http://www.w3.org/2000/svg\" height=\"24px\"viewBox=\"0 0 24 24\"\n",
              "       width=\"24px\">\n",
              "    <path d=\"M0 0h24v24H0V0z\" fill=\"none\"/>\n",
              "    <path d=\"M18.56 5.44l.94 2.06.94-2.06 2.06-.94-2.06-.94-.94-2.06-.94 2.06-2.06.94zm-11 1L8.5 8.5l.94-2.06 2.06-.94-2.06-.94L8.5 2.5l-.94 2.06-2.06.94zm10 10l.94 2.06.94-2.06 2.06-.94-2.06-.94-.94-2.06-.94 2.06-2.06.94z\"/><path d=\"M17.41 7.96l-1.37-1.37c-.4-.4-.92-.59-1.43-.59-.52 0-1.04.2-1.43.59L10.3 9.45l-7.72 7.72c-.78.78-.78 2.05 0 2.83L4 21.41c.39.39.9.59 1.41.59.51 0 1.02-.2 1.41-.59l7.78-7.78 2.81-2.81c.8-.78.8-2.07 0-2.86zM5.41 20L4 18.59l7.72-7.72 1.47 1.35L5.41 20z\"/>\n",
              "  </svg>\n",
              "      </button>\n",
              "      \n",
              "  <style>\n",
              "    .colab-df-container {\n",
              "      display:flex;\n",
              "      flex-wrap:wrap;\n",
              "      gap: 12px;\n",
              "    }\n",
              "\n",
              "    .colab-df-convert {\n",
              "      background-color: #E8F0FE;\n",
              "      border: none;\n",
              "      border-radius: 50%;\n",
              "      cursor: pointer;\n",
              "      display: none;\n",
              "      fill: #1967D2;\n",
              "      height: 32px;\n",
              "      padding: 0 0 0 0;\n",
              "      width: 32px;\n",
              "    }\n",
              "\n",
              "    .colab-df-convert:hover {\n",
              "      background-color: #E2EBFA;\n",
              "      box-shadow: 0px 1px 2px rgba(60, 64, 67, 0.3), 0px 1px 3px 1px rgba(60, 64, 67, 0.15);\n",
              "      fill: #174EA6;\n",
              "    }\n",
              "\n",
              "    [theme=dark] .colab-df-convert {\n",
              "      background-color: #3B4455;\n",
              "      fill: #D2E3FC;\n",
              "    }\n",
              "\n",
              "    [theme=dark] .colab-df-convert:hover {\n",
              "      background-color: #434B5C;\n",
              "      box-shadow: 0px 1px 3px 1px rgba(0, 0, 0, 0.15);\n",
              "      filter: drop-shadow(0px 1px 2px rgba(0, 0, 0, 0.3));\n",
              "      fill: #FFFFFF;\n",
              "    }\n",
              "  </style>\n",
              "\n",
              "      <script>\n",
              "        const buttonEl =\n",
              "          document.querySelector('#df-c8a583cf-9512-41f0-ba34-f122c45afb42 button.colab-df-convert');\n",
              "        buttonEl.style.display =\n",
              "          google.colab.kernel.accessAllowed ? 'block' : 'none';\n",
              "\n",
              "        async function convertToInteractive(key) {\n",
              "          const element = document.querySelector('#df-c8a583cf-9512-41f0-ba34-f122c45afb42');\n",
              "          const dataTable =\n",
              "            await google.colab.kernel.invokeFunction('convertToInteractive',\n",
              "                                                     [key], {});\n",
              "          if (!dataTable) return;\n",
              "\n",
              "          const docLinkHtml = 'Like what you see? Visit the ' +\n",
              "            '<a target=\"_blank\" href=https://colab.research.google.com/notebooks/data_table.ipynb>data table notebook</a>'\n",
              "            + ' to learn more about interactive tables.';\n",
              "          element.innerHTML = '';\n",
              "          dataTable['output_type'] = 'display_data';\n",
              "          await google.colab.output.renderOutput(dataTable, element);\n",
              "          const docLink = document.createElement('div');\n",
              "          docLink.innerHTML = docLinkHtml;\n",
              "          element.appendChild(docLink);\n",
              "        }\n",
              "      </script>\n",
              "    </div>\n",
              "  </div>\n",
              "  "
            ]
          },
          "metadata": {},
          "execution_count": 22
        }
      ]
    },
    {
      "cell_type": "markdown",
      "source": [
        "#Analysis"
      ],
      "metadata": {
        "id": "wq8_skCgxMhL"
      }
    },
    {
      "cell_type": "markdown",
      "source": [
        "## Getting Unique Values and Transforming into Percentages. "
      ],
      "metadata": {
        "id": "mO8qUFyfxQme"
      }
    },
    {
      "cell_type": "code",
      "source": [
        "def count_unique(df, cols):\n",
        "    for col in cols:\n",
        "        print('\\n' + 'For column ' + col)\n",
        "        print(df[col].value_counts(normalize = True)*100)\n",
        "\n",
        "cat_cols = ['Branch','City','Customer type','Gender','Product line', 'Quantity', 'Payment', 'UnitPriceBin','TaxBin','TotalBin','CogsBin','GIBin', 'RatingsBin']\n",
        "\n",
        "count_unique(df, cat_cols)\n",
        "df.shape"
      ],
      "metadata": {
        "colab": {
          "base_uri": "https://localhost:8080/"
        },
        "id": "9GxBFv82whTD",
        "outputId": "c48eb7b0-fd72-445c-cd79-d1eb58b0ef38"
      },
      "execution_count": 23,
      "outputs": [
        {
          "output_type": "stream",
          "name": "stdout",
          "text": [
            "\n",
            "For column Branch\n",
            "A    34.0\n",
            "B    33.2\n",
            "C    32.8\n",
            "Name: Branch, dtype: float64\n",
            "\n",
            "For column City\n",
            "Yangon       34.0\n",
            "Mandalay     33.2\n",
            "Naypyitaw    32.8\n",
            "Name: City, dtype: float64\n",
            "\n",
            "For column Customer type\n",
            "Member    50.1\n",
            "Normal    49.9\n",
            "Name: Customer type, dtype: float64\n",
            "\n",
            "For column Gender\n",
            "Female    50.1\n",
            "Male      49.9\n",
            "Name: Gender, dtype: float64\n",
            "\n",
            "For column Product line\n",
            "Fashion accessories       17.8\n",
            "Food and beverages        17.4\n",
            "Electronic accessories    17.0\n",
            "Sports and travel         16.6\n",
            "Home and lifestyle        16.0\n",
            "Health and beauty         15.2\n",
            "Name: Product line, dtype: float64\n",
            "\n",
            "For column Quantity\n",
            "10    11.9\n",
            "1     11.2\n",
            "4     10.9\n",
            "7     10.2\n",
            "5     10.2\n",
            "6      9.8\n",
            "9      9.2\n",
            "2      9.1\n",
            "3      9.0\n",
            "8      8.5\n",
            "Name: Quantity, dtype: float64\n",
            "\n",
            "For column Payment\n",
            "Ewallet        34.5\n",
            "Cash           34.4\n",
            "Credit card    31.1\n",
            "Name: Payment, dtype: float64\n",
            "\n",
            "For column UnitPriceBin\n",
            ">=90        12.7\n",
            "70 - <80    12.0\n",
            "20 - <30    11.8\n",
            "50 - <60    10.8\n",
            "30 - <40    10.8\n",
            "40 - <50    10.7\n",
            "10 - <20    10.6\n",
            "80 - <90    10.5\n",
            "60 - <70    10.1\n",
            "Name: UnitPriceBin, dtype: float64\n",
            "\n",
            "For column TaxBin\n",
            "10 - <20    26.7\n",
            "<5          22.4\n",
            "5 - <10     21.0\n",
            "20 - <30    16.2\n",
            "30 - <40     9.7\n",
            "40 - <50     4.0\n",
            "Name: TaxBin, dtype: float64\n",
            "\n",
            "For column TotalBin\n",
            "500 - <1000    21.8\n",
            "100 - <200     20.2\n",
            "200 - <300     15.9\n",
            "100 - <50      13.9\n",
            "300 - <400     11.1\n",
            "400 - <500      9.3\n",
            "<50             6.9\n",
            ">=1000          0.9\n",
            "Name: TotalBin, dtype: float64\n",
            "\n",
            "For column CogsBin\n",
            "100 - <200     21.0\n",
            "500 - <1000    20.6\n",
            "200 - <300     15.5\n",
            "100 - <50      15.3\n",
            "300 - <400     11.2\n",
            "400 - <500      9.3\n",
            "<50             7.1\n",
            "Name: CogsBin, dtype: float64\n",
            "\n",
            "For column GIBin\n",
            "10 - <20    26.7\n",
            "<5          22.4\n",
            "5 - <10     21.0\n",
            "20 - <30    16.2\n",
            "30 - <40     9.7\n",
            "40 - <50     4.0\n",
            "Name: GIBin, dtype: float64\n",
            "\n",
            "For column RatingsBin\n",
            "6 - <7    18.4\n",
            "7 - <8    17.2\n",
            ">= 9      16.6\n",
            "8 - <9    16.3\n",
            "5 - <6    16.2\n",
            "<5        15.3\n",
            "Name: RatingsBin, dtype: float64\n"
          ]
        },
        {
          "output_type": "execute_result",
          "data": {
            "text/plain": [
              "(1000, 23)"
            ]
          },
          "metadata": {},
          "execution_count": 23
        }
      ]
    },
    {
      "cell_type": "markdown",
      "source": [
        "### Gender by Branch"
      ],
      "metadata": {
        "id": "eiFGni74xVKY"
      }
    },
    {
      "cell_type": "code",
      "source": [
        "df.groupby(\"Branch\").Gender.value_counts(normalize=True)*100"
      ],
      "metadata": {
        "colab": {
          "base_uri": "https://localhost:8080/"
        },
        "id": "DZPBDovPx_Qz",
        "outputId": "e4a1941c-8030-4567-deb7-d0471fbc7627"
      },
      "execution_count": 24,
      "outputs": [
        {
          "output_type": "execute_result",
          "data": {
            "text/plain": [
              "Branch  Gender\n",
              "A       Male      52.647059\n",
              "        Female    47.352941\n",
              "B       Male      51.204819\n",
              "        Female    48.795181\n",
              "C       Female    54.268293\n",
              "        Male      45.731707\n",
              "Name: Gender, dtype: float64"
            ]
          },
          "metadata": {},
          "execution_count": 24
        }
      ]
    },
    {
      "cell_type": "markdown",
      "source": [
        "Gender by Member Status (Customer Type)"
      ],
      "metadata": {
        "id": "WA7yLDix02gT"
      }
    },
    {
      "cell_type": "code",
      "source": [
        "df.groupby(\"Customer type\").Gender.value_counts(normalize=True)*100"
      ],
      "metadata": {
        "colab": {
          "base_uri": "https://localhost:8080/"
        },
        "id": "ZMgDpga306oH",
        "outputId": "e27c134c-0f0b-4c1e-bed1-67fe4c2628b1"
      },
      "execution_count": 25,
      "outputs": [
        {
          "output_type": "execute_result",
          "data": {
            "text/plain": [
              "Customer type  Gender\n",
              "Member         Female    52.095808\n",
              "               Male      47.904192\n",
              "Normal         Male      51.903808\n",
              "               Female    48.096192\n",
              "Name: Gender, dtype: float64"
            ]
          },
          "metadata": {},
          "execution_count": 25
        }
      ]
    },
    {
      "cell_type": "markdown",
      "source": [
        "Gender by Branch and Member status"
      ],
      "metadata": {
        "id": "BWYTtThF1w9l"
      }
    },
    {
      "cell_type": "code",
      "source": [
        "df.groupby([\"Customer type\",\"Branch\"]).Gender.value_counts(normalize=True)*100"
      ],
      "metadata": {
        "colab": {
          "base_uri": "https://localhost:8080/"
        },
        "id": "2qkkoFwT1vFd",
        "outputId": "4215a84a-b826-4634-f5bb-fc57002971f3"
      },
      "execution_count": 26,
      "outputs": [
        {
          "output_type": "execute_result",
          "data": {
            "text/plain": [
              "Customer type  Branch  Gender\n",
              "Member         A       Male      52.095808\n",
              "                       Female    47.904192\n",
              "               B       Female    51.515152\n",
              "                       Male      48.484848\n",
              "               C       Female    56.804734\n",
              "                       Male      43.195266\n",
              "Normal         A       Male      53.179191\n",
              "                       Female    46.820809\n",
              "               B       Male      53.892216\n",
              "                       Female    46.107784\n",
              "               C       Female    51.572327\n",
              "                       Male      48.427673\n",
              "Name: Gender, dtype: float64"
            ]
          },
          "metadata": {},
          "execution_count": 26
        }
      ]
    },
    {
      "cell_type": "code",
      "source": [
        "df.head()"
      ],
      "metadata": {
        "colab": {
          "base_uri": "https://localhost:8080/",
          "height": 392
        },
        "id": "8X4nJqCexm3q",
        "outputId": "31837745-cbf1-4e9e-e975-aa4e69381205"
      },
      "execution_count": 27,
      "outputs": [
        {
          "output_type": "execute_result",
          "data": {
            "text/plain": [
              "    Invoice ID Branch       City Customer type  Gender  \\\n",
              "0  750-67-8428      A     Yangon        Member  Female   \n",
              "1  226-31-3081      C  Naypyitaw        Normal  Female   \n",
              "2  631-41-3108      A     Yangon        Normal    Male   \n",
              "3  123-19-1176      A     Yangon        Member    Male   \n",
              "4  373-73-7910      A     Yangon        Normal    Male   \n",
              "\n",
              "             Product line  Unit_price  Quantity      Tax     Total       Date  \\\n",
              "0       Health and beauty       74.69         7  26.1415  548.9715   1/5/2019   \n",
              "1  Electronic accessories       15.28         5   3.8200   80.2200   3/8/2019   \n",
              "2      Home and lifestyle       46.33         7  16.2155  340.5255   3/3/2019   \n",
              "3       Health and beauty       58.22         8  23.2880  489.0480  1/27/2019   \n",
              "4       Sports and travel       86.31         7  30.2085  634.3785   2/8/2019   \n",
              "\n",
              "    Time      Payment    cogs  gross margin percentage  Gros_income  Rating  \\\n",
              "0  13:08      Ewallet  522.83                 4.761905      26.1415     9.1   \n",
              "1  10:29         Cash   76.40                 4.761905       3.8200     9.6   \n",
              "2  13:23  Credit card  324.31                 4.761905      16.2155     7.4   \n",
              "3  20:33      Ewallet  465.76                 4.761905      23.2880     8.4   \n",
              "4  10:37      Ewallet  604.17                 4.761905      30.2085     5.3   \n",
              "\n",
              "  UnitPriceBin    TaxBin     TotalBin      CogsBin     GIBin RatingsBin  \n",
              "0     70 - <80  20 - <30  500 - <1000  500 - <1000  20 - <30       >= 9  \n",
              "1     10 - <20        <5    100 - <50    100 - <50        <5       >= 9  \n",
              "2     40 - <50  10 - <20   300 - <400   300 - <400  10 - <20     7 - <8  \n",
              "3     50 - <60  20 - <30   400 - <500   400 - <500  20 - <30     8 - <9  \n",
              "4     80 - <90  30 - <40  500 - <1000  500 - <1000  30 - <40     5 - <6  "
            ],
            "text/html": [
              "\n",
              "  <div id=\"df-6ce7313d-d7b0-4413-a47d-1d1d3268bd53\">\n",
              "    <div class=\"colab-df-container\">\n",
              "      <div>\n",
              "<style scoped>\n",
              "    .dataframe tbody tr th:only-of-type {\n",
              "        vertical-align: middle;\n",
              "    }\n",
              "\n",
              "    .dataframe tbody tr th {\n",
              "        vertical-align: top;\n",
              "    }\n",
              "\n",
              "    .dataframe thead th {\n",
              "        text-align: right;\n",
              "    }\n",
              "</style>\n",
              "<table border=\"1\" class=\"dataframe\">\n",
              "  <thead>\n",
              "    <tr style=\"text-align: right;\">\n",
              "      <th></th>\n",
              "      <th>Invoice ID</th>\n",
              "      <th>Branch</th>\n",
              "      <th>City</th>\n",
              "      <th>Customer type</th>\n",
              "      <th>Gender</th>\n",
              "      <th>Product line</th>\n",
              "      <th>Unit_price</th>\n",
              "      <th>Quantity</th>\n",
              "      <th>Tax</th>\n",
              "      <th>Total</th>\n",
              "      <th>Date</th>\n",
              "      <th>Time</th>\n",
              "      <th>Payment</th>\n",
              "      <th>cogs</th>\n",
              "      <th>gross margin percentage</th>\n",
              "      <th>Gros_income</th>\n",
              "      <th>Rating</th>\n",
              "      <th>UnitPriceBin</th>\n",
              "      <th>TaxBin</th>\n",
              "      <th>TotalBin</th>\n",
              "      <th>CogsBin</th>\n",
              "      <th>GIBin</th>\n",
              "      <th>RatingsBin</th>\n",
              "    </tr>\n",
              "  </thead>\n",
              "  <tbody>\n",
              "    <tr>\n",
              "      <th>0</th>\n",
              "      <td>750-67-8428</td>\n",
              "      <td>A</td>\n",
              "      <td>Yangon</td>\n",
              "      <td>Member</td>\n",
              "      <td>Female</td>\n",
              "      <td>Health and beauty</td>\n",
              "      <td>74.69</td>\n",
              "      <td>7</td>\n",
              "      <td>26.1415</td>\n",
              "      <td>548.9715</td>\n",
              "      <td>1/5/2019</td>\n",
              "      <td>13:08</td>\n",
              "      <td>Ewallet</td>\n",
              "      <td>522.83</td>\n",
              "      <td>4.761905</td>\n",
              "      <td>26.1415</td>\n",
              "      <td>9.1</td>\n",
              "      <td>70 - &lt;80</td>\n",
              "      <td>20 - &lt;30</td>\n",
              "      <td>500 - &lt;1000</td>\n",
              "      <td>500 - &lt;1000</td>\n",
              "      <td>20 - &lt;30</td>\n",
              "      <td>&gt;= 9</td>\n",
              "    </tr>\n",
              "    <tr>\n",
              "      <th>1</th>\n",
              "      <td>226-31-3081</td>\n",
              "      <td>C</td>\n",
              "      <td>Naypyitaw</td>\n",
              "      <td>Normal</td>\n",
              "      <td>Female</td>\n",
              "      <td>Electronic accessories</td>\n",
              "      <td>15.28</td>\n",
              "      <td>5</td>\n",
              "      <td>3.8200</td>\n",
              "      <td>80.2200</td>\n",
              "      <td>3/8/2019</td>\n",
              "      <td>10:29</td>\n",
              "      <td>Cash</td>\n",
              "      <td>76.40</td>\n",
              "      <td>4.761905</td>\n",
              "      <td>3.8200</td>\n",
              "      <td>9.6</td>\n",
              "      <td>10 - &lt;20</td>\n",
              "      <td>&lt;5</td>\n",
              "      <td>100 - &lt;50</td>\n",
              "      <td>100 - &lt;50</td>\n",
              "      <td>&lt;5</td>\n",
              "      <td>&gt;= 9</td>\n",
              "    </tr>\n",
              "    <tr>\n",
              "      <th>2</th>\n",
              "      <td>631-41-3108</td>\n",
              "      <td>A</td>\n",
              "      <td>Yangon</td>\n",
              "      <td>Normal</td>\n",
              "      <td>Male</td>\n",
              "      <td>Home and lifestyle</td>\n",
              "      <td>46.33</td>\n",
              "      <td>7</td>\n",
              "      <td>16.2155</td>\n",
              "      <td>340.5255</td>\n",
              "      <td>3/3/2019</td>\n",
              "      <td>13:23</td>\n",
              "      <td>Credit card</td>\n",
              "      <td>324.31</td>\n",
              "      <td>4.761905</td>\n",
              "      <td>16.2155</td>\n",
              "      <td>7.4</td>\n",
              "      <td>40 - &lt;50</td>\n",
              "      <td>10 - &lt;20</td>\n",
              "      <td>300 - &lt;400</td>\n",
              "      <td>300 - &lt;400</td>\n",
              "      <td>10 - &lt;20</td>\n",
              "      <td>7 - &lt;8</td>\n",
              "    </tr>\n",
              "    <tr>\n",
              "      <th>3</th>\n",
              "      <td>123-19-1176</td>\n",
              "      <td>A</td>\n",
              "      <td>Yangon</td>\n",
              "      <td>Member</td>\n",
              "      <td>Male</td>\n",
              "      <td>Health and beauty</td>\n",
              "      <td>58.22</td>\n",
              "      <td>8</td>\n",
              "      <td>23.2880</td>\n",
              "      <td>489.0480</td>\n",
              "      <td>1/27/2019</td>\n",
              "      <td>20:33</td>\n",
              "      <td>Ewallet</td>\n",
              "      <td>465.76</td>\n",
              "      <td>4.761905</td>\n",
              "      <td>23.2880</td>\n",
              "      <td>8.4</td>\n",
              "      <td>50 - &lt;60</td>\n",
              "      <td>20 - &lt;30</td>\n",
              "      <td>400 - &lt;500</td>\n",
              "      <td>400 - &lt;500</td>\n",
              "      <td>20 - &lt;30</td>\n",
              "      <td>8 - &lt;9</td>\n",
              "    </tr>\n",
              "    <tr>\n",
              "      <th>4</th>\n",
              "      <td>373-73-7910</td>\n",
              "      <td>A</td>\n",
              "      <td>Yangon</td>\n",
              "      <td>Normal</td>\n",
              "      <td>Male</td>\n",
              "      <td>Sports and travel</td>\n",
              "      <td>86.31</td>\n",
              "      <td>7</td>\n",
              "      <td>30.2085</td>\n",
              "      <td>634.3785</td>\n",
              "      <td>2/8/2019</td>\n",
              "      <td>10:37</td>\n",
              "      <td>Ewallet</td>\n",
              "      <td>604.17</td>\n",
              "      <td>4.761905</td>\n",
              "      <td>30.2085</td>\n",
              "      <td>5.3</td>\n",
              "      <td>80 - &lt;90</td>\n",
              "      <td>30 - &lt;40</td>\n",
              "      <td>500 - &lt;1000</td>\n",
              "      <td>500 - &lt;1000</td>\n",
              "      <td>30 - &lt;40</td>\n",
              "      <td>5 - &lt;6</td>\n",
              "    </tr>\n",
              "  </tbody>\n",
              "</table>\n",
              "</div>\n",
              "      <button class=\"colab-df-convert\" onclick=\"convertToInteractive('df-6ce7313d-d7b0-4413-a47d-1d1d3268bd53')\"\n",
              "              title=\"Convert this dataframe to an interactive table.\"\n",
              "              style=\"display:none;\">\n",
              "        \n",
              "  <svg xmlns=\"http://www.w3.org/2000/svg\" height=\"24px\"viewBox=\"0 0 24 24\"\n",
              "       width=\"24px\">\n",
              "    <path d=\"M0 0h24v24H0V0z\" fill=\"none\"/>\n",
              "    <path d=\"M18.56 5.44l.94 2.06.94-2.06 2.06-.94-2.06-.94-.94-2.06-.94 2.06-2.06.94zm-11 1L8.5 8.5l.94-2.06 2.06-.94-2.06-.94L8.5 2.5l-.94 2.06-2.06.94zm10 10l.94 2.06.94-2.06 2.06-.94-2.06-.94-.94-2.06-.94 2.06-2.06.94z\"/><path d=\"M17.41 7.96l-1.37-1.37c-.4-.4-.92-.59-1.43-.59-.52 0-1.04.2-1.43.59L10.3 9.45l-7.72 7.72c-.78.78-.78 2.05 0 2.83L4 21.41c.39.39.9.59 1.41.59.51 0 1.02-.2 1.41-.59l7.78-7.78 2.81-2.81c.8-.78.8-2.07 0-2.86zM5.41 20L4 18.59l7.72-7.72 1.47 1.35L5.41 20z\"/>\n",
              "  </svg>\n",
              "      </button>\n",
              "      \n",
              "  <style>\n",
              "    .colab-df-container {\n",
              "      display:flex;\n",
              "      flex-wrap:wrap;\n",
              "      gap: 12px;\n",
              "    }\n",
              "\n",
              "    .colab-df-convert {\n",
              "      background-color: #E8F0FE;\n",
              "      border: none;\n",
              "      border-radius: 50%;\n",
              "      cursor: pointer;\n",
              "      display: none;\n",
              "      fill: #1967D2;\n",
              "      height: 32px;\n",
              "      padding: 0 0 0 0;\n",
              "      width: 32px;\n",
              "    }\n",
              "\n",
              "    .colab-df-convert:hover {\n",
              "      background-color: #E2EBFA;\n",
              "      box-shadow: 0px 1px 2px rgba(60, 64, 67, 0.3), 0px 1px 3px 1px rgba(60, 64, 67, 0.15);\n",
              "      fill: #174EA6;\n",
              "    }\n",
              "\n",
              "    [theme=dark] .colab-df-convert {\n",
              "      background-color: #3B4455;\n",
              "      fill: #D2E3FC;\n",
              "    }\n",
              "\n",
              "    [theme=dark] .colab-df-convert:hover {\n",
              "      background-color: #434B5C;\n",
              "      box-shadow: 0px 1px 3px 1px rgba(0, 0, 0, 0.15);\n",
              "      filter: drop-shadow(0px 1px 2px rgba(0, 0, 0, 0.3));\n",
              "      fill: #FFFFFF;\n",
              "    }\n",
              "  </style>\n",
              "\n",
              "      <script>\n",
              "        const buttonEl =\n",
              "          document.querySelector('#df-6ce7313d-d7b0-4413-a47d-1d1d3268bd53 button.colab-df-convert');\n",
              "        buttonEl.style.display =\n",
              "          google.colab.kernel.accessAllowed ? 'block' : 'none';\n",
              "\n",
              "        async function convertToInteractive(key) {\n",
              "          const element = document.querySelector('#df-6ce7313d-d7b0-4413-a47d-1d1d3268bd53');\n",
              "          const dataTable =\n",
              "            await google.colab.kernel.invokeFunction('convertToInteractive',\n",
              "                                                     [key], {});\n",
              "          if (!dataTable) return;\n",
              "\n",
              "          const docLinkHtml = 'Like what you see? Visit the ' +\n",
              "            '<a target=\"_blank\" href=https://colab.research.google.com/notebooks/data_table.ipynb>data table notebook</a>'\n",
              "            + ' to learn more about interactive tables.';\n",
              "          element.innerHTML = '';\n",
              "          dataTable['output_type'] = 'display_data';\n",
              "          await google.colab.output.renderOutput(dataTable, element);\n",
              "          const docLink = document.createElement('div');\n",
              "          docLink.innerHTML = docLinkHtml;\n",
              "          element.appendChild(docLink);\n",
              "        }\n",
              "      </script>\n",
              "    </div>\n",
              "  </div>\n",
              "  "
            ]
          },
          "metadata": {},
          "execution_count": 27
        }
      ]
    },
    {
      "cell_type": "code",
      "source": [
        "df.groupby([\"Branch\",\"Product line\"]).Total.sum()"
      ],
      "metadata": {
        "colab": {
          "base_uri": "https://localhost:8080/"
        },
        "id": "4jDEIH_qxoCt",
        "outputId": "07f309e2-2e45-42a5-e2c2-79aa261f64a3"
      },
      "execution_count": 28,
      "outputs": [
        {
          "output_type": "execute_result",
          "data": {
            "text/plain": [
              "Branch  Product line          \n",
              "A       Electronic accessories    18317.1135\n",
              "        Fashion accessories       16332.5085\n",
              "        Food and beverages        17163.1005\n",
              "        Health and beauty         12597.7530\n",
              "        Home and lifestyle        22417.1955\n",
              "        Sports and travel         19372.6995\n",
              "B       Electronic accessories    17051.4435\n",
              "        Fashion accessories       16413.3165\n",
              "        Food and beverages        15214.8885\n",
              "        Health and beauty         19980.6600\n",
              "        Home and lifestyle        17549.1645\n",
              "        Sports and travel         19988.1990\n",
              "C       Electronic accessories    18968.9745\n",
              "        Fashion accessories       21560.0700\n",
              "        Food and beverages        23766.8550\n",
              "        Health and beauty         16615.3260\n",
              "        Home and lifestyle        13895.5530\n",
              "        Sports and travel         15761.9280\n",
              "Name: Total, dtype: float64"
            ]
          },
          "metadata": {},
          "execution_count": 28
        }
      ]
    },
    {
      "cell_type": "markdown",
      "source": [
        "### Total spend by Membership Status"
      ],
      "metadata": {
        "id": "JJBU3WATaDt_"
      }
    },
    {
      "cell_type": "code",
      "source": [
        "df.groupby(\"Customer type\").Total.sum()"
      ],
      "metadata": {
        "id": "abKbHqnp5WzD",
        "colab": {
          "base_uri": "https://localhost:8080/"
        },
        "outputId": "4c2fd96e-d29d-4894-e796-b2c9d078fb50"
      },
      "execution_count": 29,
      "outputs": [
        {
          "output_type": "execute_result",
          "data": {
            "text/plain": [
              "Customer type\n",
              "Member    164223.444\n",
              "Normal    158743.305\n",
              "Name: Total, dtype: float64"
            ]
          },
          "metadata": {},
          "execution_count": 29
        }
      ]
    },
    {
      "cell_type": "markdown",
      "source": [
        "### Total Spend by Gender"
      ],
      "metadata": {
        "id": "2wfwx3RWyTbs"
      }
    },
    {
      "cell_type": "code",
      "source": [
        "df.groupby(\"Gender\").Total.sum()"
      ],
      "metadata": {
        "colab": {
          "base_uri": "https://localhost:8080/"
        },
        "id": "93CB6GgHZ96D",
        "outputId": "7c2425a0-c777-433d-d019-21a954c62b75"
      },
      "execution_count": 30,
      "outputs": [
        {
          "output_type": "execute_result",
          "data": {
            "text/plain": [
              "Gender\n",
              "Female    167882.925\n",
              "Male      155083.824\n",
              "Name: Total, dtype: float64"
            ]
          },
          "metadata": {},
          "execution_count": 30
        }
      ]
    },
    {
      "cell_type": "markdown",
      "source": [
        "### Spend by Product Line"
      ],
      "metadata": {
        "id": "pte2TFoEysPQ"
      }
    },
    {
      "cell_type": "code",
      "source": [
        "df.groupby(\"Product line\").Total.sum()"
      ],
      "metadata": {
        "id": "4GUDu91XgbIU",
        "colab": {
          "base_uri": "https://localhost:8080/"
        },
        "outputId": "1a9f1c2a-8138-4846-81f5-2660488e854e"
      },
      "execution_count": 31,
      "outputs": [
        {
          "output_type": "execute_result",
          "data": {
            "text/plain": [
              "Product line\n",
              "Electronic accessories    54337.5315\n",
              "Fashion accessories       54305.8950\n",
              "Food and beverages        56144.8440\n",
              "Health and beauty         49193.7390\n",
              "Home and lifestyle        53861.9130\n",
              "Sports and travel         55122.8265\n",
              "Name: Total, dtype: float64"
            ]
          },
          "metadata": {},
          "execution_count": 31
        }
      ]
    },
    {
      "cell_type": "markdown",
      "source": [
        "### Spend by Pay ment Type"
      ],
      "metadata": {
        "id": "S3qyo1Z0y8TL"
      }
    },
    {
      "cell_type": "code",
      "source": [
        "df.groupby(\"Payment\").Total.sum()"
      ],
      "metadata": {
        "colab": {
          "base_uri": "https://localhost:8080/"
        },
        "id": "elGV95nPydcl",
        "outputId": "114673bf-8844-476d-a3e5-8987de4aac7e"
      },
      "execution_count": 32,
      "outputs": [
        {
          "output_type": "execute_result",
          "data": {
            "text/plain": [
              "Payment\n",
              "Cash           112206.570\n",
              "Credit card    100767.072\n",
              "Ewallet        109993.107\n",
              "Name: Total, dtype: float64"
            ]
          },
          "metadata": {},
          "execution_count": 32
        }
      ]
    },
    {
      "cell_type": "markdown",
      "source": [
        "### Avg Ratings by Product Type\n"
      ],
      "metadata": {
        "id": "EAyiJM3Ozasp"
      }
    },
    {
      "cell_type": "code",
      "source": [
        "df.groupby(\"Product line\").Rating.mean()"
      ],
      "metadata": {
        "colab": {
          "base_uri": "https://localhost:8080/"
        },
        "id": "bfXSRBlAzKQF",
        "outputId": "a4cf3de8-0f26-4e75-cc5b-8d798065a2c0"
      },
      "execution_count": 34,
      "outputs": [
        {
          "output_type": "execute_result",
          "data": {
            "text/plain": [
              "Product line\n",
              "Electronic accessories    6.924706\n",
              "Fashion accessories       7.029213\n",
              "Food and beverages        7.113218\n",
              "Health and beauty         7.003289\n",
              "Home and lifestyle        6.837500\n",
              "Sports and travel         6.916265\n",
              "Name: Rating, dtype: float64"
            ]
          },
          "metadata": {},
          "execution_count": 34
        }
      ]
    },
    {
      "cell_type": "markdown",
      "source": [
        "### Gross Income"
      ],
      "metadata": {
        "id": "rJ48To5jz2ix"
      }
    },
    {
      "cell_type": "code",
      "source": [
        "df.groupby(\"Product line\").Gros_income.sum()"
      ],
      "metadata": {
        "colab": {
          "base_uri": "https://localhost:8080/"
        },
        "id": "ZlJf5UZozpm2",
        "outputId": "59cc3b17-0d8c-4088-b795-349cc093aaff"
      },
      "execution_count": 36,
      "outputs": [
        {
          "output_type": "execute_result",
          "data": {
            "text/plain": [
              "Product line\n",
              "Electronic accessories    2587.5015\n",
              "Fashion accessories       2585.9950\n",
              "Food and beverages        2673.5640\n",
              "Health and beauty         2342.5590\n",
              "Home and lifestyle        2564.8530\n",
              "Sports and travel         2624.8965\n",
              "Name: Gros_income, dtype: float64"
            ]
          },
          "metadata": {},
          "execution_count": 36
        }
      ]
    },
    {
      "cell_type": "markdown",
      "source": [
        "### GI by Branch"
      ],
      "metadata": {
        "id": "2KPN-fVl0ugs"
      }
    },
    {
      "cell_type": "code",
      "source": [
        "df.groupby(\"Branch\").Gros_income.sum()"
      ],
      "metadata": {
        "colab": {
          "base_uri": "https://localhost:8080/"
        },
        "id": "m23KpsGO0pWf",
        "outputId": "01d0df58-c633-44ea-c595-63be17afa765"
      },
      "execution_count": 39,
      "outputs": [
        {
          "output_type": "execute_result",
          "data": {
            "text/plain": [
              "Branch\n",
              "A    5057.1605\n",
              "B    5057.0320\n",
              "C    5265.1765\n",
              "Name: Gros_income, dtype: float64"
            ]
          },
          "metadata": {},
          "execution_count": 39
        }
      ]
    },
    {
      "cell_type": "markdown",
      "source": [
        "### COG by Product line"
      ],
      "metadata": {
        "id": "13gfEgcc0Emc"
      }
    },
    {
      "cell_type": "code",
      "source": [
        "df.groupby(\"Product line\").cogs.sum()"
      ],
      "metadata": {
        "colab": {
          "base_uri": "https://localhost:8080/"
        },
        "id": "GhPu_ynGz9jY",
        "outputId": "d6bfa64d-7dbb-4bcf-8e8d-41ec5723928a"
      },
      "execution_count": 37,
      "outputs": [
        {
          "output_type": "execute_result",
          "data": {
            "text/plain": [
              "Product line\n",
              "Electronic accessories    51750.03\n",
              "Fashion accessories       51719.90\n",
              "Food and beverages        53471.28\n",
              "Health and beauty         46851.18\n",
              "Home and lifestyle        51297.06\n",
              "Sports and travel         52497.93\n",
              "Name: cogs, dtype: float64"
            ]
          },
          "metadata": {},
          "execution_count": 37
        }
      ]
    },
    {
      "cell_type": "markdown",
      "source": [
        "### By Branch"
      ],
      "metadata": {
        "id": "AqXPT9-G0Svb"
      }
    },
    {
      "cell_type": "code",
      "source": [
        "df.groupby(\"Branch\").cogs.sum()"
      ],
      "metadata": {
        "colab": {
          "base_uri": "https://localhost:8080/"
        },
        "id": "K9yOJoBG0ORb",
        "outputId": "76e86f23-d479-4fc5-ba36-1ce9431b78ec"
      },
      "execution_count": 38,
      "outputs": [
        {
          "output_type": "execute_result",
          "data": {
            "text/plain": [
              "Branch\n",
              "A    101143.21\n",
              "B    101140.64\n",
              "C    105303.53\n",
              "Name: cogs, dtype: float64"
            ]
          },
          "metadata": {},
          "execution_count": 38
        }
      ]
    },
    {
      "cell_type": "code",
      "source": [
        ""
      ],
      "metadata": {
        "id": "N8V9GZbT0ntY"
      },
      "execution_count": null,
      "outputs": []
    }
  ]
}